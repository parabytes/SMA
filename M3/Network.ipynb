{
 "cells": [
  {
   "cell_type": "markdown",
   "metadata": {},
   "source": [
    "# Social Network Analytics | Module 3 Assignment | Paras Ahuja"
   ]
  },
  {
   "cell_type": "code",
   "execution_count": null,
   "metadata": {},
   "outputs": [],
   "source": [
    "# import libraries\n",
    "import igraph as g\n",
    "import cairo as c"
   ]
  },
  {
   "cell_type": "code",
   "execution_count": null,
   "metadata": {},
   "outputs": [],
   "source": [
    "# add edges to the network\n",
    "# igraph starts edges/vertices from 0\n",
    "network_a = g.Graph([(0,1), (0,2), (1,2), (2,3), (2,5), (5,6), (3,4), (6,4)])"
   ]
  },
  {
   "cell_type": "code",
   "execution_count": 3,
   "metadata": {},
   "outputs": [],
   "source": [
    "# create layout\n",
    "layout = network_a.layout_kamada_kawai()\n",
    "layout = network_a.layout(\"kamada_kawai\")\n",
    "layout = network_a.layout_reingold_tilford(root=[2])\n",
    "layout = network_a.layout(\"rt\", 2)\n",
    "layout = network_a.layout(\"kk\")"
   ]
  },
  {
   "cell_type": "code",
   "execution_count": 4,
   "metadata": {},
   "outputs": [
    {
     "name": "stdout",
     "output_type": "stream",
     "text": [
      "Dendrogram, 7 elements, 6 merges\n",
      "\n",
      "0 1 2 3 4 5 6\n",
      "| | | | | | |\n",
      "| `-' `-' `-'\n",
      "|  |   |   | \n",
      "`--'   `---' \n",
      " |       |   \n",
      " `-------'\n",
      "[0.0, 0.0, 9.0, 3.0, 1.0, 3.0, 1.0]\n"
     ]
    }
   ],
   "source": [
    "betweenness = network_a.betweenness()\n",
    "print(network_a.community_edge_betweenness())\n",
    "print(betweenness)\n",
    "save_as = \"network_a.pdf\"\n",
    "labels = [\"A2\", \"A1\", \"\", \"\", \"\"]\n",
    "colors = [\"lightblue\", \"red\", \"lightblue\", \"red\", \"lightblue\"]\n",
    "# size = [10 * s for s in betweenness]"
   ]
  },
  {
   "cell_type": "code",
   "execution_count": 5,
   "metadata": {},
   "outputs": [
    {
     "data": {
      "image/svg+xml": [
       "<?xml version=\"1.0\" encoding=\"UTF-8\"?>\n",
       "<svg xmlns=\"http://www.w3.org/2000/svg\" xmlns:xlink=\"http://www.w3.org/1999/xlink\" width=\"600pt\" height=\"600pt\" viewBox=\"0 0 600 600\" version=\"1.1\">\n",
       "<defs>\n",
       "<g>\n",
       "<symbol overflow=\"visible\" id=\"glyph0-0\">\n",
       "<path style=\"stroke:none;\" d=\"\"/>\n",
       "</symbol>\n",
       "<symbol overflow=\"visible\" id=\"glyph0-1\">\n",
       "<path style=\"stroke:none;\" d=\"M 6.21875 -4.117188 L 4.695312 -8.550781 L 3.078125 -4.117188 Z M 3.984375 -10.042969 L 5.523438 -10.042969 L 9.167969 0 L 7.675781 0 L 6.65625 -3.007812 L 2.6875 -3.007812 L 1.601562 0 L 0.203125 0 Z M 3.984375 -10.042969 \"/>\n",
       "</symbol>\n",
       "<symbol overflow=\"visible\" id=\"glyph0-2\">\n",
       "<path style=\"stroke:none;\" d=\"M 0.4375 0 C 0.484375 -0.84375 0.65625 -1.578125 0.960938 -2.203125 C 1.265625 -2.828125 1.855469 -3.394531 2.734375 -3.902344 L 4.046875 -4.664062 C 4.632812 -5.003906 5.046875 -5.296875 5.285156 -5.539062 C 5.65625 -5.914062 5.84375 -6.347656 5.84375 -6.835938 C 5.84375 -7.40625 5.671875 -7.859375 5.332031 -8.191406 C 4.992188 -8.527344 4.535156 -8.695312 3.964844 -8.695312 C 3.121094 -8.695312 2.539062 -8.375 2.214844 -7.738281 C 2.042969 -7.398438 1.945312 -6.921875 1.929688 -6.316406 L 0.675781 -6.316406 C 0.691406 -7.167969 0.847656 -7.863281 1.148438 -8.402344 C 1.679688 -9.351562 2.621094 -9.824219 3.972656 -9.824219 C 5.09375 -9.824219 5.910156 -9.519531 6.429688 -8.914062 C 6.945312 -8.308594 7.203125 -7.632812 7.203125 -6.890625 C 7.203125 -6.105469 6.929688 -5.4375 6.378906 -4.882812 C 6.058594 -4.558594 5.488281 -4.164062 4.664062 -3.703125 L 3.726562 -3.1875 C 3.28125 -2.941406 2.929688 -2.703125 2.671875 -2.480469 C 2.21875 -2.085938 1.929688 -1.644531 1.8125 -1.164062 L 7.15625 -1.164062 L 7.15625 0 Z M 0.4375 0 \"/>\n",
       "</symbol>\n",
       "<symbol overflow=\"visible\" id=\"glyph0-3\">\n",
       "<path style=\"stroke:none;\" d=\"M 1.339844 -6.929688 L 1.339844 -7.875 C 2.226562 -7.960938 2.847656 -8.105469 3.199219 -8.308594 C 3.550781 -8.511719 3.8125 -8.992188 3.984375 -9.75 L 4.957031 -9.75 L 4.957031 0 L 3.644531 0 L 3.644531 -6.929688 Z M 1.339844 -6.929688 \"/>\n",
       "</symbol>\n",
       "</g>\n",
       "</defs>\n",
       "<g id=\"surface6\">\n",
       "<rect x=\"0\" y=\"0\" width=\"600\" height=\"600\" style=\"fill:rgb(100%,100%,100%);fill-opacity:1;stroke:none;\"/>\n",
       "<path style=\"fill:none;stroke-width:1;stroke-linecap:butt;stroke-linejoin:miter;stroke:rgb(26.666667%,26.666667%,26.666667%);stroke-opacity:1;stroke-miterlimit:10;\" d=\"M 160.515625 500 L 100 350.648438 \"/>\n",
       "<path style=\"fill:none;stroke-width:1;stroke-linecap:butt;stroke-linejoin:miter;stroke:rgb(26.666667%,26.666667%,26.666667%);stroke-opacity:1;stroke-miterlimit:10;\" d=\"M 160.515625 500 L 246.074219 343.558594 \"/>\n",
       "<path style=\"fill:none;stroke-width:1;stroke-linecap:butt;stroke-linejoin:miter;stroke:rgb(26.666667%,26.666667%,26.666667%);stroke-opacity:1;stroke-miterlimit:10;\" d=\"M 100 350.648438 L 246.074219 343.558594 \"/>\n",
       "<path style=\"fill:none;stroke-width:1;stroke-linecap:butt;stroke-linejoin:miter;stroke:rgb(26.666667%,26.666667%,26.666667%);stroke-opacity:1;stroke-miterlimit:10;\" d=\"M 246.074219 343.558594 L 390.773438 413.230469 \"/>\n",
       "<path style=\"fill:none;stroke-width:1;stroke-linecap:butt;stroke-linejoin:miter;stroke:rgb(26.666667%,26.666667%,26.666667%);stroke-opacity:1;stroke-miterlimit:10;\" d=\"M 246.074219 343.558594 L 286.636719 145.300781 \"/>\n",
       "<path style=\"fill:none;stroke-width:1;stroke-linecap:butt;stroke-linejoin:miter;stroke:rgb(26.666667%,26.666667%,26.666667%);stroke-opacity:1;stroke-miterlimit:10;\" d=\"M 286.636719 145.300781 L 433.03125 100 \"/>\n",
       "<path style=\"fill:none;stroke-width:1;stroke-linecap:butt;stroke-linejoin:miter;stroke:rgb(26.666667%,26.666667%,26.666667%);stroke-opacity:1;stroke-miterlimit:10;\" d=\"M 390.773438 413.230469 L 500 276.46875 \"/>\n",
       "<path style=\"fill:none;stroke-width:1;stroke-linecap:butt;stroke-linejoin:miter;stroke:rgb(26.666667%,26.666667%,26.666667%);stroke-opacity:1;stroke-miterlimit:10;\" d=\"M 500 276.46875 L 433.03125 100 \"/>\n",
       "<path style=\"fill-rule:nonzero;fill:rgb(67.843137%,84.705882%,90.196078%);fill-opacity:1;stroke-width:1;stroke-linecap:butt;stroke-linejoin:miter;stroke:rgb(0%,0%,0%);stroke-opacity:1;stroke-miterlimit:10;\" d=\"M 170.515625 500 C 170.515625 505.523438 166.039062 510 160.515625 510 C 154.992188 510 150.515625 505.523438 150.515625 500 C 150.515625 494.476562 154.992188 490 160.515625 490 C 166.039062 490 170.515625 494.476562 170.515625 500 \"/>\n",
       "<path style=\"fill-rule:nonzero;fill:rgb(100%,0%,0%);fill-opacity:1;stroke-width:1;stroke-linecap:butt;stroke-linejoin:miter;stroke:rgb(0%,0%,0%);stroke-opacity:1;stroke-miterlimit:10;\" d=\"M 110 350.648438 C 110 356.171875 105.523438 360.648438 100 360.648438 C 94.476562 360.648438 90 356.171875 90 350.648438 C 90 345.125 94.476562 340.648438 100 340.648438 C 105.523438 340.648438 110 345.125 110 350.648438 \"/>\n",
       "<path style=\"fill-rule:nonzero;fill:rgb(67.843137%,84.705882%,90.196078%);fill-opacity:1;stroke-width:1;stroke-linecap:butt;stroke-linejoin:miter;stroke:rgb(0%,0%,0%);stroke-opacity:1;stroke-miterlimit:10;\" d=\"M 256.074219 343.558594 C 256.074219 349.082031 251.597656 353.558594 246.074219 353.558594 C 240.550781 353.558594 236.074219 349.082031 236.074219 343.558594 C 236.074219 338.035156 240.550781 333.558594 246.074219 333.558594 C 251.597656 333.558594 256.074219 338.035156 256.074219 343.558594 \"/>\n",
       "<path style=\"fill-rule:nonzero;fill:rgb(100%,0%,0%);fill-opacity:1;stroke-width:1;stroke-linecap:butt;stroke-linejoin:miter;stroke:rgb(0%,0%,0%);stroke-opacity:1;stroke-miterlimit:10;\" d=\"M 400.773438 413.230469 C 400.773438 418.753906 396.296875 423.230469 390.773438 423.230469 C 385.25 423.230469 380.773438 418.753906 380.773438 413.230469 C 380.773438 407.710938 385.25 403.230469 390.773438 403.230469 C 396.296875 403.230469 400.773438 407.710938 400.773438 413.230469 \"/>\n",
       "<path style=\"fill-rule:nonzero;fill:rgb(67.843137%,84.705882%,90.196078%);fill-opacity:1;stroke-width:1;stroke-linecap:butt;stroke-linejoin:miter;stroke:rgb(0%,0%,0%);stroke-opacity:1;stroke-miterlimit:10;\" d=\"M 510 276.46875 C 510 281.992188 505.523438 286.46875 500 286.46875 C 494.476562 286.46875 490 281.992188 490 276.46875 C 490 270.945312 494.476562 266.46875 500 266.46875 C 505.523438 266.46875 510 270.945312 510 276.46875 \"/>\n",
       "<path style=\"fill-rule:nonzero;fill:rgb(67.843137%,84.705882%,90.196078%);fill-opacity:1;stroke-width:1;stroke-linecap:butt;stroke-linejoin:miter;stroke:rgb(0%,0%,0%);stroke-opacity:1;stroke-miterlimit:10;\" d=\"M 296.636719 145.300781 C 296.636719 150.824219 292.160156 155.300781 286.636719 155.300781 C 281.113281 155.300781 276.636719 150.824219 276.636719 145.300781 C 276.636719 139.777344 281.113281 135.300781 286.636719 135.300781 C 292.160156 135.300781 296.636719 139.777344 296.636719 145.300781 \"/>\n",
       "<path style=\"fill-rule:nonzero;fill:rgb(100%,0%,0%);fill-opacity:1;stroke-width:1;stroke-linecap:butt;stroke-linejoin:miter;stroke:rgb(0%,0%,0%);stroke-opacity:1;stroke-miterlimit:10;\" d=\"M 443.03125 100 C 443.03125 105.523438 438.554688 110 433.03125 110 C 427.507812 110 423.03125 105.523438 423.03125 100 C 423.03125 94.476562 427.507812 90 433.03125 90 C 438.554688 90 443.03125 94.476562 443.03125 100 \"/>\n",
       "<g style=\"fill:rgb(0%,0%,0%);fill-opacity:1;\">\n",
       "  <use xlink:href=\"#glyph0-1\" x=\"152.140625\" y=\"506.632812\"/>\n",
       "  <use xlink:href=\"#glyph0-2\" x=\"161.478516\" y=\"506.632812\"/>\n",
       "</g>\n",
       "<g style=\"fill:rgb(0%,0%,0%);fill-opacity:1;\">\n",
       "  <use xlink:href=\"#glyph0-1\" x=\"92.75\" y=\"357.277344\"/>\n",
       "  <use xlink:href=\"#glyph0-3\" x=\"102.087891\" y=\"357.277344\"/>\n",
       "</g>\n",
       "<g style=\"fill:rgb(0%,0%,0%);fill-opacity:1;\">\n",
       "  <use xlink:href=\"#glyph0-1\" x=\"278.261719\" y=\"151.933594\"/>\n",
       "  <use xlink:href=\"#glyph0-2\" x=\"287.599609\" y=\"151.933594\"/>\n",
       "</g>\n",
       "<g style=\"fill:rgb(0%,0%,0%);fill-opacity:1;\">\n",
       "  <use xlink:href=\"#glyph0-1\" x=\"425.78125\" y=\"106.632812\"/>\n",
       "  <use xlink:href=\"#glyph0-3\" x=\"435.119141\" y=\"106.632812\"/>\n",
       "</g>\n",
       "</g>\n",
       "</svg>\n"
      ],
      "text/plain": [
       "<igraph.drawing.Plot at 0x7ff5904a4790>"
      ]
     },
     "execution_count": 5,
     "metadata": {},
     "output_type": "execute_result"
    }
   ],
   "source": [
    "# plot graph\n",
    "g.drawing.plot(network_a, save_as, layout = layout, vertex_label = labels, vertex_color = colors, margin=100)"
   ]
  },
  {
   "cell_type": "code",
   "execution_count": 6,
   "metadata": {},
   "outputs": [],
   "source": [
    "import os\n",
    "import nltk\n",
    "from nltk.tokenize import RegexpTokenizer\n",
    "from nltk.tokenize import word_tokenize\n",
    "from nltk.corpus import stopwords\n",
    "from nltk.stem.porter import *\n",
    "from nltk.parse import stanford\n",
    "sentence = \"Find a good group of friends/study partners in your major. It makes studying and doing homework nicer\""
   ]
  },
  {
   "cell_type": "code",
   "execution_count": 7,
   "metadata": {},
   "outputs": [
    {
     "data": {
      "text/plain": [
       "['Find',\n",
       " 'a',\n",
       " 'good',\n",
       " 'group',\n",
       " 'of',\n",
       " 'friends/study',\n",
       " 'partners',\n",
       " 'in',\n",
       " 'your',\n",
       " 'major',\n",
       " '.',\n",
       " 'It',\n",
       " 'makes',\n",
       " 'studying',\n",
       " 'and',\n",
       " 'doing',\n",
       " 'homework',\n",
       " 'nicer']"
      ]
     },
     "execution_count": 7,
     "metadata": {},
     "output_type": "execute_result"
    }
   ],
   "source": [
    "tokens = word_tokenize(sentence)\n",
    "tokens"
   ]
  },
  {
   "cell_type": "code",
   "execution_count": 8,
   "metadata": {},
   "outputs": [
    {
     "data": {
      "text/plain": [
       "[('Find', 'a'),\n",
       " ('a', 'good'),\n",
       " ('good', 'group'),\n",
       " ('group', 'of'),\n",
       " ('of', 'friends/study'),\n",
       " ('friends/study', 'partners'),\n",
       " ('partners', 'in'),\n",
       " ('in', 'your'),\n",
       " ('your', 'major.'),\n",
       " ('major.', 'It'),\n",
       " ('It', 'makes'),\n",
       " ('makes', 'studying'),\n",
       " ('studying', 'and'),\n",
       " ('and', 'doing'),\n",
       " ('doing', 'homework'),\n",
       " ('homework', 'nicer')]"
      ]
     },
     "execution_count": 8,
     "metadata": {},
     "output_type": "execute_result"
    }
   ],
   "source": [
    "bigrams = list(nltk.bigrams(sentence.split(\" \")))\n",
    "bigrams"
   ]
  },
  {
   "cell_type": "code",
   "execution_count": 9,
   "metadata": {},
   "outputs": [
    {
     "name": "stdout",
     "output_type": "stream",
     "text": [
      "['Find', 'good', 'group', 'friends/study', 'partners', 'major', '.', 'It', 'makes', 'studying', 'homework', 'nicer']\n"
     ]
    }
   ],
   "source": [
    "sw = set(stopwords.words(\"english\"))\n",
    "tokens = [w for w in tokens if not w in sw]\n",
    "print(tokens)"
   ]
  },
  {
   "cell_type": "code",
   "execution_count": 10,
   "metadata": {},
   "outputs": [
    {
     "name": "stdout",
     "output_type": "stream",
     "text": [
      "['find', 'good', 'group', 'friends/studi', 'partner', 'major', '.', 'It', 'make', 'studi', 'homework', 'nicer']\n"
     ]
    }
   ],
   "source": [
    "stemmer = PorterStemmer()\n",
    "singles = [stemmer.stem(token) for token in tokens]\n",
    "print(singles)"
   ]
  },
  {
   "cell_type": "code",
   "execution_count": 11,
   "metadata": {},
   "outputs": [
    {
     "ename": "LookupError",
     "evalue": "\n\n===========================================================================\n  NLTK was unable to find stanford-parser\\.jar! Set the CLASSPATH\n  environment variable.\n\n  For more information, on stanford-parser\\.jar, see:\n    <https://nlp.stanford.edu/software/lex-parser.shtml>\n===========================================================================",
     "output_type": "error",
     "traceback": [
      "\u001b[0;31m---------------------------------------------------------------------------\u001b[0m",
      "\u001b[0;31mLookupError\u001b[0m                               Traceback (most recent call last)",
      "\u001b[0;32m<ipython-input-11-3a4cbf2268c4>\u001b[0m in \u001b[0;36m<module>\u001b[0;34m\u001b[0m\n\u001b[0;32m----> 1\u001b[0;31m \u001b[0mparser\u001b[0m \u001b[0;34m=\u001b[0m \u001b[0mstanford\u001b[0m\u001b[0;34m.\u001b[0m\u001b[0mGenericStanfordParser\u001b[0m\u001b[0;34m(\u001b[0m\u001b[0;34m)\u001b[0m\u001b[0;34m\u001b[0m\u001b[0;34m\u001b[0m\u001b[0m\n\u001b[0m\u001b[1;32m      2\u001b[0m \u001b[0msecond_sentence\u001b[0m \u001b[0;34m=\u001b[0m \u001b[0msentence\u001b[0m\u001b[0;34m.\u001b[0m\u001b[0msplit\u001b[0m\u001b[0;34m(\u001b[0m\u001b[0;34m'.'\u001b[0m\u001b[0;34m)\u001b[0m\u001b[0;34m\u001b[0m\u001b[0;34m\u001b[0m\u001b[0m\n\u001b[1;32m      3\u001b[0m \u001b[0mprint\u001b[0m\u001b[0;34m(\u001b[0m\u001b[0mparser\u001b[0m\u001b[0;34m.\u001b[0m\u001b[0mraw_parse\u001b[0m\u001b[0;34m(\u001b[0m\u001b[0msecond_sentence\u001b[0m\u001b[0;34m)\u001b[0m\u001b[0;34m)\u001b[0m\u001b[0;34m\u001b[0m\u001b[0;34m\u001b[0m\u001b[0m\n",
      "\u001b[0;32m~/.local/lib/python3.8/site-packages/nltk/parse/stanford.py\u001b[0m in \u001b[0;36m__init__\u001b[0;34m(self, path_to_jar, path_to_models_jar, model_path, encoding, verbose, java_options, corenlp_options)\u001b[0m\n\u001b[1;32m     51\u001b[0m \u001b[0;34m\u001b[0m\u001b[0m\n\u001b[1;32m     52\u001b[0m         \u001b[0;31m# find the most recent code and model jar\u001b[0m\u001b[0;34m\u001b[0m\u001b[0;34m\u001b[0m\u001b[0;34m\u001b[0m\u001b[0m\n\u001b[0;32m---> 53\u001b[0;31m         stanford_jar = max(\n\u001b[0m\u001b[1;32m     54\u001b[0m             find_jar_iter(\n\u001b[1;32m     55\u001b[0m                 \u001b[0mself\u001b[0m\u001b[0;34m.\u001b[0m\u001b[0m_JAR\u001b[0m\u001b[0;34m,\u001b[0m\u001b[0;34m\u001b[0m\u001b[0;34m\u001b[0m\u001b[0m\n",
      "\u001b[0;32m~/.local/lib/python3.8/site-packages/nltk/internals.py\u001b[0m in \u001b[0;36mfind_jar_iter\u001b[0;34m(name_pattern, path_to_jar, env_vars, searchpath, url, verbose, is_regex)\u001b[0m\n\u001b[1;32m    831\u001b[0m             )\n\u001b[1;32m    832\u001b[0m         \u001b[0mdiv\u001b[0m \u001b[0;34m=\u001b[0m \u001b[0;34m\"=\"\u001b[0m \u001b[0;34m*\u001b[0m \u001b[0;36m75\u001b[0m\u001b[0;34m\u001b[0m\u001b[0;34m\u001b[0m\u001b[0m\n\u001b[0;32m--> 833\u001b[0;31m         \u001b[0;32mraise\u001b[0m \u001b[0mLookupError\u001b[0m\u001b[0;34m(\u001b[0m\u001b[0;34m\"\\n\\n%s\\n%s\\n%s\"\u001b[0m \u001b[0;34m%\u001b[0m \u001b[0;34m(\u001b[0m\u001b[0mdiv\u001b[0m\u001b[0;34m,\u001b[0m \u001b[0mmsg\u001b[0m\u001b[0;34m,\u001b[0m \u001b[0mdiv\u001b[0m\u001b[0;34m)\u001b[0m\u001b[0;34m)\u001b[0m\u001b[0;34m\u001b[0m\u001b[0;34m\u001b[0m\u001b[0m\n\u001b[0m\u001b[1;32m    834\u001b[0m \u001b[0;34m\u001b[0m\u001b[0m\n\u001b[1;32m    835\u001b[0m \u001b[0;34m\u001b[0m\u001b[0m\n",
      "\u001b[0;31mLookupError\u001b[0m: \n\n===========================================================================\n  NLTK was unable to find stanford-parser\\.jar! Set the CLASSPATH\n  environment variable.\n\n  For more information, on stanford-parser\\.jar, see:\n    <https://nlp.stanford.edu/software/lex-parser.shtml>\n==========================================================================="
     ]
    }
   ],
   "source": [
    "parser = stanford.GenericStanfordParser()\n",
    "second_sentence = sentence.split('.')\n",
    "print(parser.raw_parse(second_sentence))"
   ]
  },
  {
   "cell_type": "code",
   "execution_count": null,
   "metadata": {},
   "outputs": [],
   "source": []
  }
 ],
 "metadata": {
  "kernelspec": {
   "display_name": "Python 3",
   "language": "python",
   "name": "python3"
  },
  "language_info": {
   "codemirror_mode": {
    "name": "ipython",
    "version": 3
   },
   "file_extension": ".py",
   "mimetype": "text/x-python",
   "name": "python",
   "nbconvert_exporter": "python",
   "pygments_lexer": "ipython3",
   "version": "3.8.5"
  }
 },
 "nbformat": 4,
 "nbformat_minor": 4
}

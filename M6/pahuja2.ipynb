{
 "cells": [
  {
   "cell_type": "markdown",
   "metadata": {},
   "source": [
    "# Social Media Analytics | Module 7 Assignment | Paras Ahuja"
   ]
  },
  {
   "cell_type": "markdown",
   "metadata": {},
   "source": [
    "## Objective\n",
    "\n",
    "Our main objective for this assignment perform descriptive analytics on twitter dataset. This is a classfication dataset with class label identifying an account as either human or bot. We start by loading the libraries that we will be using throughout the notebook."
   ]
  },
  {
   "cell_type": "code",
   "execution_count": 1,
   "metadata": {},
   "outputs": [],
   "source": [
    "import pandas as pd\n",
    "import numpy as np\n",
    "import seaborn as sns\n",
    "pd.set_option('display.float_format', lambda x: '%.3f' % x)"
   ]
  },
  {
   "cell_type": "markdown",
   "metadata": {},
   "source": [
    "Now that we have our libraries, we can import data as pandas dataframe."
   ]
  },
  {
   "cell_type": "code",
   "execution_count": 2,
   "metadata": {},
   "outputs": [
    {
     "data": {
      "text/html": [
       "<div>\n",
       "<style scoped>\n",
       "    .dataframe tbody tr th:only-of-type {\n",
       "        vertical-align: middle;\n",
       "    }\n",
       "\n",
       "    .dataframe tbody tr th {\n",
       "        vertical-align: top;\n",
       "    }\n",
       "\n",
       "    .dataframe thead th {\n",
       "        text-align: right;\n",
       "    }\n",
       "</style>\n",
       "<table border=\"1\" class=\"dataframe\">\n",
       "  <thead>\n",
       "    <tr style=\"text-align: right;\">\n",
       "      <th></th>\n",
       "      <th>default_profile</th>\n",
       "      <th>default_profile_image</th>\n",
       "      <th>favorites_count</th>\n",
       "      <th>followers_count</th>\n",
       "      <th>friends_count</th>\n",
       "      <th>geo_enabled</th>\n",
       "      <th>id</th>\n",
       "      <th>lang</th>\n",
       "      <th>location</th>\n",
       "      <th>statuses_count</th>\n",
       "      <th>verified</th>\n",
       "      <th>average_tweets_per_day</th>\n",
       "      <th>account_age_days</th>\n",
       "      <th>account_type</th>\n",
       "    </tr>\n",
       "  </thead>\n",
       "  <tbody>\n",
       "    <tr>\n",
       "      <th>0</th>\n",
       "      <td>False</td>\n",
       "      <td>False</td>\n",
       "      <td>4</td>\n",
       "      <td>1589</td>\n",
       "      <td>4</td>\n",
       "      <td>False</td>\n",
       "      <td>787000000000000000.000</td>\n",
       "      <td>en</td>\n",
       "      <td>unknown</td>\n",
       "      <td>11041</td>\n",
       "      <td>False</td>\n",
       "      <td>7.870</td>\n",
       "      <td>1403</td>\n",
       "      <td>bot</td>\n",
       "    </tr>\n",
       "    <tr>\n",
       "      <th>1</th>\n",
       "      <td>False</td>\n",
       "      <td>False</td>\n",
       "      <td>536</td>\n",
       "      <td>860</td>\n",
       "      <td>880</td>\n",
       "      <td>False</td>\n",
       "      <td>796000000000000000.000</td>\n",
       "      <td>en</td>\n",
       "      <td>Estados Unidos</td>\n",
       "      <td>252</td>\n",
       "      <td>False</td>\n",
       "      <td>0.183</td>\n",
       "      <td>1379</td>\n",
       "      <td>human</td>\n",
       "    </tr>\n",
       "    <tr>\n",
       "      <th>2</th>\n",
       "      <td>False</td>\n",
       "      <td>False</td>\n",
       "      <td>3307</td>\n",
       "      <td>172</td>\n",
       "      <td>594</td>\n",
       "      <td>True</td>\n",
       "      <td>876000000000000000.000</td>\n",
       "      <td>en</td>\n",
       "      <td>Los Angeles, CA</td>\n",
       "      <td>1001</td>\n",
       "      <td>False</td>\n",
       "      <td>0.864</td>\n",
       "      <td>1159</td>\n",
       "      <td>human</td>\n",
       "    </tr>\n",
       "    <tr>\n",
       "      <th>3</th>\n",
       "      <td>True</td>\n",
       "      <td>False</td>\n",
       "      <td>8433</td>\n",
       "      <td>517</td>\n",
       "      <td>633</td>\n",
       "      <td>True</td>\n",
       "      <td>756000000000000000.000</td>\n",
       "      <td>en</td>\n",
       "      <td>Birmingham, AL</td>\n",
       "      <td>1324</td>\n",
       "      <td>False</td>\n",
       "      <td>0.889</td>\n",
       "      <td>1489</td>\n",
       "      <td>human</td>\n",
       "    </tr>\n",
       "    <tr>\n",
       "      <th>4</th>\n",
       "      <td>False</td>\n",
       "      <td>False</td>\n",
       "      <td>88</td>\n",
       "      <td>753678</td>\n",
       "      <td>116</td>\n",
       "      <td>True</td>\n",
       "      <td>464781334.000</td>\n",
       "      <td>en</td>\n",
       "      <td>England, United Kingdom</td>\n",
       "      <td>4202</td>\n",
       "      <td>True</td>\n",
       "      <td>1.339</td>\n",
       "      <td>3138</td>\n",
       "      <td>human</td>\n",
       "    </tr>\n",
       "  </tbody>\n",
       "</table>\n",
       "</div>"
      ],
      "text/plain": [
       "   default_profile  default_profile_image  favorites_count  followers_count  \\\n",
       "0            False                  False                4             1589   \n",
       "1            False                  False              536              860   \n",
       "2            False                  False             3307              172   \n",
       "3             True                  False             8433              517   \n",
       "4            False                  False               88           753678   \n",
       "\n",
       "   friends_count  geo_enabled                     id lang  \\\n",
       "0              4        False 787000000000000000.000   en   \n",
       "1            880        False 796000000000000000.000   en   \n",
       "2            594         True 876000000000000000.000   en   \n",
       "3            633         True 756000000000000000.000   en   \n",
       "4            116         True          464781334.000   en   \n",
       "\n",
       "                  location  statuses_count  verified  average_tweets_per_day  \\\n",
       "0                  unknown           11041     False                   7.870   \n",
       "1           Estados Unidos             252     False                   0.183   \n",
       "2          Los Angeles, CA            1001     False                   0.864   \n",
       "3           Birmingham, AL            1324     False                   0.889   \n",
       "4  England, United Kingdom            4202      True                   1.339   \n",
       "\n",
       "   account_age_days account_type  \n",
       "0              1403          bot  \n",
       "1              1379        human  \n",
       "2              1159        human  \n",
       "3              1489        human  \n",
       "4              3138        human  "
      ]
     },
     "execution_count": 2,
     "metadata": {},
     "output_type": "execute_result"
    }
   ],
   "source": [
    "t = pd.read_csv('twitter.csv')\n",
    "t.head()"
   ]
  },
  {
   "cell_type": "markdown",
   "metadata": {},
   "source": [
    "We can modify some of this data, for instance the true/false columns can be turned into 1/0, and likewise for account_type, which is our classification label. We may even drop some of these columns in an attempt to reduce the deminsionality. Let's find out the size of the dataset."
   ]
  },
  {
   "cell_type": "code",
   "execution_count": 3,
   "metadata": {},
   "outputs": [
    {
     "name": "stdout",
     "output_type": "stream",
     "text": [
      "Rows: 37438\n",
      "Columns: 14\n"
     ]
    }
   ],
   "source": [
    "print(\"Rows: {}\\nColumns: {}\".format(t.shape[0], t.shape[1]))"
   ]
  },
  {
   "cell_type": "markdown",
   "metadata": {},
   "source": [
    "Next let's find out some information about the dataset, and the features."
   ]
  },
  {
   "cell_type": "code",
   "execution_count": 4,
   "metadata": {},
   "outputs": [
    {
     "name": "stdout",
     "output_type": "stream",
     "text": [
      "<class 'pandas.core.frame.DataFrame'>\n",
      "RangeIndex: 37438 entries, 0 to 37437\n",
      "Data columns (total 14 columns):\n",
      " #   Column                  Non-Null Count  Dtype  \n",
      "---  ------                  --------------  -----  \n",
      " 0   default_profile         37438 non-null  bool   \n",
      " 1   default_profile_image   37438 non-null  bool   \n",
      " 2   favorites_count         37438 non-null  int64  \n",
      " 3   followers_count         37438 non-null  int64  \n",
      " 4   friends_count           37438 non-null  int64  \n",
      " 5   geo_enabled             37438 non-null  bool   \n",
      " 6   id                      37438 non-null  float64\n",
      " 7   lang                    29481 non-null  object \n",
      " 8   location                37435 non-null  object \n",
      " 9   statuses_count          37438 non-null  int64  \n",
      " 10  verified                37438 non-null  bool   \n",
      " 11  average_tweets_per_day  37438 non-null  float64\n",
      " 12  account_age_days        37438 non-null  int64  \n",
      " 13  account_type            37438 non-null  object \n",
      "dtypes: bool(4), float64(2), int64(5), object(3)\n",
      "memory usage: 3.0+ MB\n"
     ]
    }
   ],
   "source": [
    "t.info()"
   ]
  },
  {
   "cell_type": "markdown",
   "metadata": {},
   "source": [
    "We notice here that there are a few bool Dtype in our data set, and the rest are either int64, float64, or object. However, we can also change account_type to bool. Next, let's check if there are any missing values in our dataset."
   ]
  },
  {
   "cell_type": "code",
   "execution_count": 5,
   "metadata": {},
   "outputs": [
    {
     "data": {
      "text/plain": [
       "default_profile              0\n",
       "default_profile_image        0\n",
       "favorites_count              0\n",
       "followers_count              0\n",
       "friends_count                0\n",
       "geo_enabled                  0\n",
       "id                           0\n",
       "lang                      7957\n",
       "location                     3\n",
       "statuses_count               0\n",
       "verified                     0\n",
       "average_tweets_per_day       0\n",
       "account_age_days             0\n",
       "account_type                 0\n",
       "dtype: int64"
      ]
     },
     "execution_count": 5,
     "metadata": {},
     "output_type": "execute_result"
    }
   ],
   "source": [
    "t.isnull().sum()"
   ]
  },
  {
   "cell_type": "markdown",
   "metadata": {},
   "source": [
    "We have quite a few missing values in lang feature and only 3 missing location data. In order to fill missing values, we can curate a list of languages and countries where the languages are spoken accounting for most commonly spoken language in the nation. Then, if a the location, we can simply fill the language accordingly - this is assuming that we have all the location data that we need."
   ]
  },
  {
   "cell_type": "code",
   "execution_count": 6,
   "metadata": {},
   "outputs": [
    {
     "data": {
      "text/plain": [
       "array(['en', 'ar', nan, 'so', 'it', 'es', 'fr', 'id', 'pt', 'ja', 'zh-cn',\n",
       "       'de', 'lt', 'ru', 'tl', 'af', 'cy', 'tr', 'vi', 'ca', 'no', 'hu',\n",
       "       'sw', 'ko', 'fa', 'el', 'sl', 'et', 'pl', 'fi', 'ro', 'nl', 'da',\n",
       "       'sk', 'bg', 'sv', 'mk', 'hr', 'th', 'sq', 'cs', 'ur', 'hi', 'lv',\n",
       "       'he', 'zh-tw', 'ne', 'uk', 'pa'], dtype=object)"
      ]
     },
     "execution_count": 6,
     "metadata": {},
     "output_type": "execute_result"
    }
   ],
   "source": [
    "t.lang.unique()"
   ]
  },
  {
   "cell_type": "code",
   "execution_count": 7,
   "metadata": {},
   "outputs": [
    {
     "data": {
      "text/html": [
       "<div>\n",
       "<style scoped>\n",
       "    .dataframe tbody tr th:only-of-type {\n",
       "        vertical-align: middle;\n",
       "    }\n",
       "\n",
       "    .dataframe tbody tr th {\n",
       "        vertical-align: top;\n",
       "    }\n",
       "\n",
       "    .dataframe thead th {\n",
       "        text-align: right;\n",
       "    }\n",
       "</style>\n",
       "<table border=\"1\" class=\"dataframe\">\n",
       "  <thead>\n",
       "    <tr style=\"text-align: right;\">\n",
       "      <th></th>\n",
       "      <th>default_profile</th>\n",
       "      <th>default_profile_image</th>\n",
       "      <th>favorites_count</th>\n",
       "      <th>followers_count</th>\n",
       "      <th>friends_count</th>\n",
       "      <th>geo_enabled</th>\n",
       "      <th>id</th>\n",
       "      <th>lang</th>\n",
       "      <th>location</th>\n",
       "      <th>statuses_count</th>\n",
       "      <th>verified</th>\n",
       "      <th>average_tweets_per_day</th>\n",
       "      <th>account_age_days</th>\n",
       "      <th>account_type</th>\n",
       "    </tr>\n",
       "  </thead>\n",
       "  <tbody>\n",
       "    <tr>\n",
       "      <th>8</th>\n",
       "      <td>True</td>\n",
       "      <td>False</td>\n",
       "      <td>64</td>\n",
       "      <td>24</td>\n",
       "      <td>0</td>\n",
       "      <td>False</td>\n",
       "      <td>1015021614.000</td>\n",
       "      <td>NaN</td>\n",
       "      <td>unknown</td>\n",
       "      <td>277</td>\n",
       "      <td>False</td>\n",
       "      <td>0.099</td>\n",
       "      <td>2802</td>\n",
       "      <td>human</td>\n",
       "    </tr>\n",
       "    <tr>\n",
       "      <th>19</th>\n",
       "      <td>True</td>\n",
       "      <td>False</td>\n",
       "      <td>510</td>\n",
       "      <td>6</td>\n",
       "      <td>33</td>\n",
       "      <td>False</td>\n",
       "      <td>384565337.000</td>\n",
       "      <td>NaN</td>\n",
       "      <td>unknown</td>\n",
       "      <td>639</td>\n",
       "      <td>False</td>\n",
       "      <td>0.197</td>\n",
       "      <td>3242</td>\n",
       "      <td>bot</td>\n",
       "    </tr>\n",
       "    <tr>\n",
       "      <th>40</th>\n",
       "      <td>False</td>\n",
       "      <td>False</td>\n",
       "      <td>722</td>\n",
       "      <td>1300</td>\n",
       "      <td>1137</td>\n",
       "      <td>True</td>\n",
       "      <td>235667666.000</td>\n",
       "      <td>NaN</td>\n",
       "      <td>unknown</td>\n",
       "      <td>70176</td>\n",
       "      <td>False</td>\n",
       "      <td>19.993</td>\n",
       "      <td>3510</td>\n",
       "      <td>human</td>\n",
       "    </tr>\n",
       "    <tr>\n",
       "      <th>42</th>\n",
       "      <td>False</td>\n",
       "      <td>False</td>\n",
       "      <td>2896</td>\n",
       "      <td>338</td>\n",
       "      <td>743</td>\n",
       "      <td>True</td>\n",
       "      <td>2499018968.000</td>\n",
       "      <td>NaN</td>\n",
       "      <td>unknown</td>\n",
       "      <td>7167</td>\n",
       "      <td>False</td>\n",
       "      <td>3.135</td>\n",
       "      <td>2286</td>\n",
       "      <td>human</td>\n",
       "    </tr>\n",
       "    <tr>\n",
       "      <th>47</th>\n",
       "      <td>False</td>\n",
       "      <td>False</td>\n",
       "      <td>1325</td>\n",
       "      <td>25</td>\n",
       "      <td>851</td>\n",
       "      <td>False</td>\n",
       "      <td>51904755.000</td>\n",
       "      <td>NaN</td>\n",
       "      <td>unknown</td>\n",
       "      <td>1807</td>\n",
       "      <td>False</td>\n",
       "      <td>0.444</td>\n",
       "      <td>4069</td>\n",
       "      <td>bot</td>\n",
       "    </tr>\n",
       "    <tr>\n",
       "      <th>...</th>\n",
       "      <td>...</td>\n",
       "      <td>...</td>\n",
       "      <td>...</td>\n",
       "      <td>...</td>\n",
       "      <td>...</td>\n",
       "      <td>...</td>\n",
       "      <td>...</td>\n",
       "      <td>...</td>\n",
       "      <td>...</td>\n",
       "      <td>...</td>\n",
       "      <td>...</td>\n",
       "      <td>...</td>\n",
       "      <td>...</td>\n",
       "      <td>...</td>\n",
       "    </tr>\n",
       "    <tr>\n",
       "      <th>37412</th>\n",
       "      <td>False</td>\n",
       "      <td>False</td>\n",
       "      <td>1432</td>\n",
       "      <td>93</td>\n",
       "      <td>199</td>\n",
       "      <td>True</td>\n",
       "      <td>179830629.000</td>\n",
       "      <td>NaN</td>\n",
       "      <td>Trabzon, Türkiye</td>\n",
       "      <td>1812</td>\n",
       "      <td>False</td>\n",
       "      <td>0.496</td>\n",
       "      <td>3654</td>\n",
       "      <td>human</td>\n",
       "    </tr>\n",
       "    <tr>\n",
       "      <th>37415</th>\n",
       "      <td>True</td>\n",
       "      <td>True</td>\n",
       "      <td>222</td>\n",
       "      <td>2</td>\n",
       "      <td>19</td>\n",
       "      <td>False</td>\n",
       "      <td>713293693.000</td>\n",
       "      <td>NaN</td>\n",
       "      <td>unknown</td>\n",
       "      <td>58</td>\n",
       "      <td>False</td>\n",
       "      <td>0.020</td>\n",
       "      <td>2948</td>\n",
       "      <td>bot</td>\n",
       "    </tr>\n",
       "    <tr>\n",
       "      <th>37420</th>\n",
       "      <td>False</td>\n",
       "      <td>False</td>\n",
       "      <td>2465</td>\n",
       "      <td>114</td>\n",
       "      <td>70</td>\n",
       "      <td>True</td>\n",
       "      <td>108003230.000</td>\n",
       "      <td>NaN</td>\n",
       "      <td>Salvador</td>\n",
       "      <td>5799</td>\n",
       "      <td>False</td>\n",
       "      <td>1.503</td>\n",
       "      <td>3859</td>\n",
       "      <td>bot</td>\n",
       "    </tr>\n",
       "    <tr>\n",
       "      <th>37422</th>\n",
       "      <td>True</td>\n",
       "      <td>False</td>\n",
       "      <td>1368</td>\n",
       "      <td>6</td>\n",
       "      <td>170</td>\n",
       "      <td>False</td>\n",
       "      <td>1556873126.000</td>\n",
       "      <td>NaN</td>\n",
       "      <td>unknown</td>\n",
       "      <td>2056</td>\n",
       "      <td>False</td>\n",
       "      <td>0.789</td>\n",
       "      <td>2607</td>\n",
       "      <td>bot</td>\n",
       "    </tr>\n",
       "    <tr>\n",
       "      <th>37428</th>\n",
       "      <td>False</td>\n",
       "      <td>False</td>\n",
       "      <td>1887</td>\n",
       "      <td>15</td>\n",
       "      <td>27</td>\n",
       "      <td>False</td>\n",
       "      <td>180617154.000</td>\n",
       "      <td>NaN</td>\n",
       "      <td>Seattle, WA</td>\n",
       "      <td>3112</td>\n",
       "      <td>False</td>\n",
       "      <td>0.852</td>\n",
       "      <td>3652</td>\n",
       "      <td>human</td>\n",
       "    </tr>\n",
       "  </tbody>\n",
       "</table>\n",
       "<p>7957 rows × 14 columns</p>\n",
       "</div>"
      ],
      "text/plain": [
       "       default_profile  default_profile_image  favorites_count  \\\n",
       "8                 True                  False               64   \n",
       "19                True                  False              510   \n",
       "40               False                  False              722   \n",
       "42               False                  False             2896   \n",
       "47               False                  False             1325   \n",
       "...                ...                    ...              ...   \n",
       "37412            False                  False             1432   \n",
       "37415             True                   True              222   \n",
       "37420            False                  False             2465   \n",
       "37422             True                  False             1368   \n",
       "37428            False                  False             1887   \n",
       "\n",
       "       followers_count  friends_count  geo_enabled             id lang  \\\n",
       "8                   24              0        False 1015021614.000  NaN   \n",
       "19                   6             33        False  384565337.000  NaN   \n",
       "40                1300           1137         True  235667666.000  NaN   \n",
       "42                 338            743         True 2499018968.000  NaN   \n",
       "47                  25            851        False   51904755.000  NaN   \n",
       "...                ...            ...          ...            ...  ...   \n",
       "37412               93            199         True  179830629.000  NaN   \n",
       "37415                2             19        False  713293693.000  NaN   \n",
       "37420              114             70         True  108003230.000  NaN   \n",
       "37422                6            170        False 1556873126.000  NaN   \n",
       "37428               15             27        False  180617154.000  NaN   \n",
       "\n",
       "               location  statuses_count  verified  average_tweets_per_day  \\\n",
       "8               unknown             277     False                   0.099   \n",
       "19              unknown             639     False                   0.197   \n",
       "40              unknown           70176     False                  19.993   \n",
       "42              unknown            7167     False                   3.135   \n",
       "47              unknown            1807     False                   0.444   \n",
       "...                 ...             ...       ...                     ...   \n",
       "37412  Trabzon, Türkiye            1812     False                   0.496   \n",
       "37415           unknown              58     False                   0.020   \n",
       "37420          Salvador            5799     False                   1.503   \n",
       "37422           unknown            2056     False                   0.789   \n",
       "37428       Seattle, WA            3112     False                   0.852   \n",
       "\n",
       "       account_age_days account_type  \n",
       "8                  2802        human  \n",
       "19                 3242          bot  \n",
       "40                 3510        human  \n",
       "42                 2286        human  \n",
       "47                 4069          bot  \n",
       "...                 ...          ...  \n",
       "37412              3654        human  \n",
       "37415              2948          bot  \n",
       "37420              3859          bot  \n",
       "37422              2607          bot  \n",
       "37428              3652        human  \n",
       "\n",
       "[7957 rows x 14 columns]"
      ]
     },
     "execution_count": 7,
     "metadata": {},
     "output_type": "execute_result"
    }
   ],
   "source": [
    "t.loc[pd.isnull(t.lang)]"
   ]
  },
  {
   "cell_type": "markdown",
   "metadata": {},
   "source": [
    "It appears that we will not be able to use the location data to fill in language because we have many instances of location marked as unknown. Let's find out how many such instances are there."
   ]
  },
  {
   "cell_type": "code",
   "execution_count": 8,
   "metadata": {},
   "outputs": [
    {
     "name": "stdout",
     "output_type": "stream",
     "text": [
      "Missing location data marked as 'unknown': 13023\n"
     ]
    }
   ],
   "source": [
    "print(\"Missing location data marked as 'unknown': {}\".format(t.loc[t.location == 'unknown'].count()[8]))"
   ]
  },
  {
   "cell_type": "markdown",
   "metadata": {},
   "source": [
    "This just too many pieces of missing information. Even if we decided to salvage some of this data, will still have roughly 5000 instances where we do not have any information. In this instances our options are to either drop these columns because we cannot impute this information in any meaningful way or drop the rows with missing values after having salvaged some information."
   ]
  },
  {
   "cell_type": "code",
   "execution_count": 9,
   "metadata": {},
   "outputs": [
    {
     "name": "stdout",
     "output_type": "stream",
     "text": [
      "Missing location data marked as 'unknown and bots': 6254\n"
     ]
    }
   ],
   "source": [
    "print(\"Missing location data marked as 'unknown and bots': {}\".format(t.loc[(t.location == 'unknown') & (t[\"account_type\"] == \"bot\")].count()[8]))"
   ]
  },
  {
   "cell_type": "code",
   "execution_count": 10,
   "metadata": {},
   "outputs": [
    {
     "name": "stdout",
     "output_type": "stream",
     "text": [
      "Missing location data not marked as 'unknown and bots': 6170\n"
     ]
    }
   ],
   "source": [
    "print(\"Missing location data not marked as 'unknown and bots': {}\".format(t.loc[(t.location != 'unknown') & (t[\"account_type\"] == \"bot\")].count()[8]))"
   ]
  },
  {
   "cell_type": "code",
   "execution_count": 11,
   "metadata": {},
   "outputs": [
    {
     "data": {
      "text/html": [
       "<div>\n",
       "<style scoped>\n",
       "    .dataframe tbody tr th:only-of-type {\n",
       "        vertical-align: middle;\n",
       "    }\n",
       "\n",
       "    .dataframe tbody tr th {\n",
       "        vertical-align: top;\n",
       "    }\n",
       "\n",
       "    .dataframe thead th {\n",
       "        text-align: right;\n",
       "    }\n",
       "</style>\n",
       "<table border=\"1\" class=\"dataframe\">\n",
       "  <thead>\n",
       "    <tr style=\"text-align: right;\">\n",
       "      <th></th>\n",
       "      <th>default_profile</th>\n",
       "      <th>default_profile_image</th>\n",
       "      <th>favorites_count</th>\n",
       "      <th>followers_count</th>\n",
       "      <th>friends_count</th>\n",
       "      <th>geo_enabled</th>\n",
       "      <th>id</th>\n",
       "      <th>lang</th>\n",
       "      <th>location</th>\n",
       "      <th>statuses_count</th>\n",
       "      <th>verified</th>\n",
       "      <th>average_tweets_per_day</th>\n",
       "      <th>account_age_days</th>\n",
       "      <th>account_type</th>\n",
       "    </tr>\n",
       "  </thead>\n",
       "  <tbody>\n",
       "    <tr>\n",
       "      <th>5</th>\n",
       "      <td>True</td>\n",
       "      <td>False</td>\n",
       "      <td>237</td>\n",
       "      <td>27394</td>\n",
       "      <td>542</td>\n",
       "      <td>False</td>\n",
       "      <td>801000000000000000.000</td>\n",
       "      <td>ar</td>\n",
       "      <td>مكة المكرمة</td>\n",
       "      <td>11513</td>\n",
       "      <td>False</td>\n",
       "      <td>8.428</td>\n",
       "      <td>1366</td>\n",
       "      <td>bot</td>\n",
       "    </tr>\n",
       "    <tr>\n",
       "      <th>26</th>\n",
       "      <td>True</td>\n",
       "      <td>False</td>\n",
       "      <td>307</td>\n",
       "      <td>3745</td>\n",
       "      <td>2</td>\n",
       "      <td>False</td>\n",
       "      <td>932000000000000000.000</td>\n",
       "      <td>en</td>\n",
       "      <td>The Internet</td>\n",
       "      <td>2371</td>\n",
       "      <td>False</td>\n",
       "      <td>2.362</td>\n",
       "      <td>1004</td>\n",
       "      <td>bot</td>\n",
       "    </tr>\n",
       "    <tr>\n",
       "      <th>31</th>\n",
       "      <td>False</td>\n",
       "      <td>False</td>\n",
       "      <td>2361</td>\n",
       "      <td>64</td>\n",
       "      <td>156</td>\n",
       "      <td>True</td>\n",
       "      <td>381157528.000</td>\n",
       "      <td>en</td>\n",
       "      <td>Hollywood, Los Angeles</td>\n",
       "      <td>2780</td>\n",
       "      <td>False</td>\n",
       "      <td>0.856</td>\n",
       "      <td>3248</td>\n",
       "      <td>bot</td>\n",
       "    </tr>\n",
       "    <tr>\n",
       "      <th>44</th>\n",
       "      <td>False</td>\n",
       "      <td>False</td>\n",
       "      <td>2583</td>\n",
       "      <td>108</td>\n",
       "      <td>0</td>\n",
       "      <td>False</td>\n",
       "      <td>23331044.000</td>\n",
       "      <td>id</td>\n",
       "      <td>iowa! nothing but corn:)</td>\n",
       "      <td>5626</td>\n",
       "      <td>False</td>\n",
       "      <td>1.346</td>\n",
       "      <td>4181</td>\n",
       "      <td>bot</td>\n",
       "    </tr>\n",
       "    <tr>\n",
       "      <th>49</th>\n",
       "      <td>False</td>\n",
       "      <td>False</td>\n",
       "      <td>253</td>\n",
       "      <td>317</td>\n",
       "      <td>413</td>\n",
       "      <td>True</td>\n",
       "      <td>2918711542.000</td>\n",
       "      <td>it</td>\n",
       "      <td>Florencia, Toscana</td>\n",
       "      <td>3110</td>\n",
       "      <td>False</td>\n",
       "      <td>1.498</td>\n",
       "      <td>2076</td>\n",
       "      <td>bot</td>\n",
       "    </tr>\n",
       "    <tr>\n",
       "      <th>...</th>\n",
       "      <td>...</td>\n",
       "      <td>...</td>\n",
       "      <td>...</td>\n",
       "      <td>...</td>\n",
       "      <td>...</td>\n",
       "      <td>...</td>\n",
       "      <td>...</td>\n",
       "      <td>...</td>\n",
       "      <td>...</td>\n",
       "      <td>...</td>\n",
       "      <td>...</td>\n",
       "      <td>...</td>\n",
       "      <td>...</td>\n",
       "      <td>...</td>\n",
       "    </tr>\n",
       "    <tr>\n",
       "      <th>37388</th>\n",
       "      <td>True</td>\n",
       "      <td>False</td>\n",
       "      <td>970</td>\n",
       "      <td>19</td>\n",
       "      <td>0</td>\n",
       "      <td>True</td>\n",
       "      <td>24116929.000</td>\n",
       "      <td>en</td>\n",
       "      <td>Scotland</td>\n",
       "      <td>1418</td>\n",
       "      <td>False</td>\n",
       "      <td>0.339</td>\n",
       "      <td>4177</td>\n",
       "      <td>bot</td>\n",
       "    </tr>\n",
       "    <tr>\n",
       "      <th>37403</th>\n",
       "      <td>True</td>\n",
       "      <td>False</td>\n",
       "      <td>252</td>\n",
       "      <td>12</td>\n",
       "      <td>21</td>\n",
       "      <td>False</td>\n",
       "      <td>350748440.000</td>\n",
       "      <td>NaN</td>\n",
       "      <td>tn</td>\n",
       "      <td>597</td>\n",
       "      <td>False</td>\n",
       "      <td>0.181</td>\n",
       "      <td>3299</td>\n",
       "      <td>bot</td>\n",
       "    </tr>\n",
       "    <tr>\n",
       "      <th>37418</th>\n",
       "      <td>False</td>\n",
       "      <td>False</td>\n",
       "      <td>1</td>\n",
       "      <td>8</td>\n",
       "      <td>0</td>\n",
       "      <td>False</td>\n",
       "      <td>1070000000000000000.000</td>\n",
       "      <td>en</td>\n",
       "      <td>Helsinki, Finland</td>\n",
       "      <td>611</td>\n",
       "      <td>False</td>\n",
       "      <td>0.998</td>\n",
       "      <td>612</td>\n",
       "      <td>bot</td>\n",
       "    </tr>\n",
       "    <tr>\n",
       "      <th>37420</th>\n",
       "      <td>False</td>\n",
       "      <td>False</td>\n",
       "      <td>2465</td>\n",
       "      <td>114</td>\n",
       "      <td>70</td>\n",
       "      <td>True</td>\n",
       "      <td>108003230.000</td>\n",
       "      <td>NaN</td>\n",
       "      <td>Salvador</td>\n",
       "      <td>5799</td>\n",
       "      <td>False</td>\n",
       "      <td>1.503</td>\n",
       "      <td>3859</td>\n",
       "      <td>bot</td>\n",
       "    </tr>\n",
       "    <tr>\n",
       "      <th>37437</th>\n",
       "      <td>False</td>\n",
       "      <td>False</td>\n",
       "      <td>1092</td>\n",
       "      <td>5</td>\n",
       "      <td>39</td>\n",
       "      <td>False</td>\n",
       "      <td>434896892.000</td>\n",
       "      <td>zh-cn</td>\n",
       "      <td>中国</td>\n",
       "      <td>1563</td>\n",
       "      <td>False</td>\n",
       "      <td>0.493</td>\n",
       "      <td>3172</td>\n",
       "      <td>bot</td>\n",
       "    </tr>\n",
       "  </tbody>\n",
       "</table>\n",
       "<p>6171 rows × 14 columns</p>\n",
       "</div>"
      ],
      "text/plain": [
       "       default_profile  default_profile_image  favorites_count  \\\n",
       "5                 True                  False              237   \n",
       "26                True                  False              307   \n",
       "31               False                  False             2361   \n",
       "44               False                  False             2583   \n",
       "49               False                  False              253   \n",
       "...                ...                    ...              ...   \n",
       "37388             True                  False              970   \n",
       "37403             True                  False              252   \n",
       "37418            False                  False                1   \n",
       "37420            False                  False             2465   \n",
       "37437            False                  False             1092   \n",
       "\n",
       "       followers_count  friends_count  geo_enabled                      id  \\\n",
       "5                27394            542        False  801000000000000000.000   \n",
       "26                3745              2        False  932000000000000000.000   \n",
       "31                  64            156         True           381157528.000   \n",
       "44                 108              0        False            23331044.000   \n",
       "49                 317            413         True          2918711542.000   \n",
       "...                ...            ...          ...                     ...   \n",
       "37388               19              0         True            24116929.000   \n",
       "37403               12             21        False           350748440.000   \n",
       "37418                8              0        False 1070000000000000000.000   \n",
       "37420              114             70         True           108003230.000   \n",
       "37437                5             39        False           434896892.000   \n",
       "\n",
       "        lang                   location  statuses_count  verified  \\\n",
       "5         ar                مكة المكرمة           11513     False   \n",
       "26        en               The Internet            2371     False   \n",
       "31        en     Hollywood, Los Angeles            2780     False   \n",
       "44        id  iowa! nothing but corn:)             5626     False   \n",
       "49        it         Florencia, Toscana            3110     False   \n",
       "...      ...                        ...             ...       ...   \n",
       "37388     en                   Scotland            1418     False   \n",
       "37403    NaN                         tn             597     False   \n",
       "37418     en          Helsinki, Finland             611     False   \n",
       "37420    NaN                   Salvador            5799     False   \n",
       "37437  zh-cn                         中国            1563     False   \n",
       "\n",
       "       average_tweets_per_day  account_age_days account_type  \n",
       "5                       8.428              1366          bot  \n",
       "26                      2.362              1004          bot  \n",
       "31                      0.856              3248          bot  \n",
       "44                      1.346              4181          bot  \n",
       "49                      1.498              2076          bot  \n",
       "...                       ...               ...          ...  \n",
       "37388                   0.339              4177          bot  \n",
       "37403                   0.181              3299          bot  \n",
       "37418                   0.998               612          bot  \n",
       "37420                   1.503              3859          bot  \n",
       "37437                   0.493              3172          bot  \n",
       "\n",
       "[6171 rows x 14 columns]"
      ]
     },
     "execution_count": 11,
     "metadata": {},
     "output_type": "execute_result"
    }
   ],
   "source": [
    "t.loc[(t.location != 'unknown') & (t[\"account_type\"] == \"bot\")]"
   ]
  },
  {
   "cell_type": "code",
   "execution_count": 12,
   "metadata": {},
   "outputs": [
    {
     "data": {
      "text/plain": [
       "2242"
      ]
     },
     "execution_count": 12,
     "metadata": {},
     "output_type": "execute_result"
    }
   ],
   "source": [
    "len(t.loc[(pd.isnull(t.lang)) & (t.location != 'unknown')].location.unique())"
   ]
  },
  {
   "cell_type": "markdown",
   "metadata": {},
   "source": [
    "There are 2242 unique locations where we do not have language data provided and have location. We will drop lang, and location columns."
   ]
  },
  {
   "cell_type": "code",
   "execution_count": 13,
   "metadata": {},
   "outputs": [],
   "source": [
    "t = t.drop(columns=['lang', 'location'])"
   ]
  },
  {
   "cell_type": "code",
   "execution_count": 14,
   "metadata": {},
   "outputs": [
    {
     "data": {
      "text/html": [
       "<div>\n",
       "<style scoped>\n",
       "    .dataframe tbody tr th:only-of-type {\n",
       "        vertical-align: middle;\n",
       "    }\n",
       "\n",
       "    .dataframe tbody tr th {\n",
       "        vertical-align: top;\n",
       "    }\n",
       "\n",
       "    .dataframe thead th {\n",
       "        text-align: right;\n",
       "    }\n",
       "</style>\n",
       "<table border=\"1\" class=\"dataframe\">\n",
       "  <thead>\n",
       "    <tr style=\"text-align: right;\">\n",
       "      <th></th>\n",
       "      <th>favorites_count</th>\n",
       "      <th>followers_count</th>\n",
       "      <th>friends_count</th>\n",
       "      <th>id</th>\n",
       "      <th>statuses_count</th>\n",
       "      <th>average_tweets_per_day</th>\n",
       "      <th>account_age_days</th>\n",
       "    </tr>\n",
       "  </thead>\n",
       "  <tbody>\n",
       "    <tr>\n",
       "      <th>count</th>\n",
       "      <td>37438.000</td>\n",
       "      <td>37438.000</td>\n",
       "      <td>37438.000</td>\n",
       "      <td>37438.000</td>\n",
       "      <td>37438.000</td>\n",
       "      <td>37438.000</td>\n",
       "      <td>37438.000</td>\n",
       "    </tr>\n",
       "    <tr>\n",
       "      <th>mean</th>\n",
       "      <td>12302.062</td>\n",
       "      <td>370309.830</td>\n",
       "      <td>4445.925</td>\n",
       "      <td>122148512894491104.000</td>\n",
       "      <td>21073.387</td>\n",
       "      <td>6.892</td>\n",
       "      <td>3022.128</td>\n",
       "    </tr>\n",
       "    <tr>\n",
       "      <th>std</th>\n",
       "      <td>33923.650</td>\n",
       "      <td>2470829.491</td>\n",
       "      <td>49545.202</td>\n",
       "      <td>300418030375024576.000</td>\n",
       "      <td>67329.771</td>\n",
       "      <td>24.580</td>\n",
       "      <td>1013.696</td>\n",
       "    </tr>\n",
       "    <tr>\n",
       "      <th>min</th>\n",
       "      <td>0.000</td>\n",
       "      <td>0.000</td>\n",
       "      <td>0.000</td>\n",
       "      <td>418.000</td>\n",
       "      <td>0.000</td>\n",
       "      <td>0.000</td>\n",
       "      <td>483.000</td>\n",
       "    </tr>\n",
       "    <tr>\n",
       "      <th>25%</th>\n",
       "      <td>362.000</td>\n",
       "      <td>35.000</td>\n",
       "      <td>37.000</td>\n",
       "      <td>99573057.500</td>\n",
       "      <td>1336.250</td>\n",
       "      <td>0.495</td>\n",
       "      <td>2316.250</td>\n",
       "    </tr>\n",
       "    <tr>\n",
       "      <th>50%</th>\n",
       "      <td>2066.000</td>\n",
       "      <td>365.000</td>\n",
       "      <td>296.000</td>\n",
       "      <td>399147423.500</td>\n",
       "      <td>4209.000</td>\n",
       "      <td>1.488</td>\n",
       "      <td>3219.000</td>\n",
       "    </tr>\n",
       "    <tr>\n",
       "      <th>75%</th>\n",
       "      <td>8879.000</td>\n",
       "      <td>8440.250</td>\n",
       "      <td>893.000</td>\n",
       "      <td>2453825953.250</td>\n",
       "      <td>17153.750</td>\n",
       "      <td>5.528</td>\n",
       "      <td>3888.000</td>\n",
       "    </tr>\n",
       "    <tr>\n",
       "      <th>max</th>\n",
       "      <td>885123.000</td>\n",
       "      <td>121641473.000</td>\n",
       "      <td>4343060.000</td>\n",
       "      <td>1120000000000000000.000</td>\n",
       "      <td>2771910.000</td>\n",
       "      <td>1269.055</td>\n",
       "      <td>5158.000</td>\n",
       "    </tr>\n",
       "  </tbody>\n",
       "</table>\n",
       "</div>"
      ],
      "text/plain": [
       "       favorites_count  followers_count  friends_count  \\\n",
       "count        37438.000        37438.000      37438.000   \n",
       "mean         12302.062       370309.830       4445.925   \n",
       "std          33923.650      2470829.491      49545.202   \n",
       "min              0.000            0.000          0.000   \n",
       "25%            362.000           35.000         37.000   \n",
       "50%           2066.000          365.000        296.000   \n",
       "75%           8879.000         8440.250        893.000   \n",
       "max         885123.000    121641473.000    4343060.000   \n",
       "\n",
       "                           id  statuses_count  average_tweets_per_day  \\\n",
       "count               37438.000       37438.000               37438.000   \n",
       "mean   122148512894491104.000       21073.387                   6.892   \n",
       "std    300418030375024576.000       67329.771                  24.580   \n",
       "min                   418.000           0.000                   0.000   \n",
       "25%              99573057.500        1336.250                   0.495   \n",
       "50%             399147423.500        4209.000                   1.488   \n",
       "75%            2453825953.250       17153.750                   5.528   \n",
       "max   1120000000000000000.000     2771910.000                1269.055   \n",
       "\n",
       "       account_age_days  \n",
       "count         37438.000  \n",
       "mean           3022.128  \n",
       "std            1013.696  \n",
       "min             483.000  \n",
       "25%            2316.250  \n",
       "50%            3219.000  \n",
       "75%            3888.000  \n",
       "max            5158.000  "
      ]
     },
     "execution_count": 14,
     "metadata": {},
     "output_type": "execute_result"
    }
   ],
   "source": [
    "t.describe()"
   ]
  },
  {
   "cell_type": "markdown",
   "metadata": {},
   "source": [
    "We have maximum average tweets per day of 1269.055000. That is simply too many tweets! However, mean average tweets per day is 6.89. Let's find out whether this maximum tweeter is a bot or a human. However, before checking we can expect that this is most likely a bot."
   ]
  },
  {
   "cell_type": "code",
   "execution_count": 15,
   "metadata": {},
   "outputs": [
    {
     "data": {
      "text/html": [
       "<div>\n",
       "<style scoped>\n",
       "    .dataframe tbody tr th:only-of-type {\n",
       "        vertical-align: middle;\n",
       "    }\n",
       "\n",
       "    .dataframe tbody tr th {\n",
       "        vertical-align: top;\n",
       "    }\n",
       "\n",
       "    .dataframe thead th {\n",
       "        text-align: right;\n",
       "    }\n",
       "</style>\n",
       "<table border=\"1\" class=\"dataframe\">\n",
       "  <thead>\n",
       "    <tr style=\"text-align: right;\">\n",
       "      <th></th>\n",
       "      <th>default_profile</th>\n",
       "      <th>default_profile_image</th>\n",
       "      <th>favorites_count</th>\n",
       "      <th>followers_count</th>\n",
       "      <th>friends_count</th>\n",
       "      <th>geo_enabled</th>\n",
       "      <th>id</th>\n",
       "      <th>statuses_count</th>\n",
       "      <th>verified</th>\n",
       "      <th>average_tweets_per_day</th>\n",
       "      <th>account_age_days</th>\n",
       "      <th>account_type</th>\n",
       "    </tr>\n",
       "  </thead>\n",
       "  <tbody>\n",
       "    <tr>\n",
       "      <th>37226</th>\n",
       "      <td>False</td>\n",
       "      <td>False</td>\n",
       "      <td>45</td>\n",
       "      <td>15</td>\n",
       "      <td>2</td>\n",
       "      <td>False</td>\n",
       "      <td>913000000000000000.000</td>\n",
       "      <td>1340122</td>\n",
       "      <td>False</td>\n",
       "      <td>1269.055</td>\n",
       "      <td>1056</td>\n",
       "      <td>bot</td>\n",
       "    </tr>\n",
       "  </tbody>\n",
       "</table>\n",
       "</div>"
      ],
      "text/plain": [
       "       default_profile  default_profile_image  favorites_count  \\\n",
       "37226            False                  False               45   \n",
       "\n",
       "       followers_count  friends_count  geo_enabled                     id  \\\n",
       "37226               15              2        False 913000000000000000.000   \n",
       "\n",
       "       statuses_count  verified  average_tweets_per_day  account_age_days  \\\n",
       "37226         1340122     False                1269.055              1056   \n",
       "\n",
       "      account_type  \n",
       "37226          bot  "
      ]
     },
     "execution_count": 15,
     "metadata": {},
     "output_type": "execute_result"
    }
   ],
   "source": [
    "t.loc[t['average_tweets_per_day'] == 1269.055000]"
   ]
  },
  {
   "cell_type": "markdown",
   "metadata": {},
   "source": [
    "As we can see that the account is clearly a bot."
   ]
  },
  {
   "cell_type": "code",
   "execution_count": 16,
   "metadata": {},
   "outputs": [
    {
     "data": {
      "image/png": "[encoded data removed]",
      "text/plain": [
       "<Figure size 1080x720 with 1 Axes>"
      ]
     },
     "metadata": {
      "needs_background": "light"
     },
     "output_type": "display_data"
    }
   ],
   "source": [
    "ax = sns.displot(t, x='account_type', color=\"slategrey\")\n",
    "ax.fig.set_size_inches(15,10)"
   ]
  },
  {
   "cell_type": "markdown",
   "metadata": {},
   "source": [
    "We notice that we twice as many humans as bots. One thing that would be interesting to find out, is the outreach of bots vs humans. We have three features that can tell us of this - favorites_count, followers_count, and friends_count."
   ]
  },
  {
   "cell_type": "code",
   "execution_count": 17,
   "metadata": {},
   "outputs": [
    {
     "data": {
      "text/plain": [
       "4483.1367404426555"
      ]
     },
     "execution_count": 17,
     "metadata": {},
     "output_type": "execute_result"
    }
   ],
   "source": [
    "t.loc[(t['account_type'] == 'bot')]['favorites_count'].mean()"
   ]
  },
  {
   "cell_type": "code",
   "execution_count": 18,
   "metadata": {},
   "outputs": [
    {
     "data": {
      "text/plain": [
       "16186.048454803502"
      ]
     },
     "execution_count": 18,
     "metadata": {},
     "output_type": "execute_result"
    }
   ],
   "source": [
    "t.loc[(t['account_type'] == 'human')]['favorites_count'].mean()"
   ]
  },
  {
   "cell_type": "markdown",
   "metadata": {},
   "source": [
    "Humans have more favorites count that bots."
   ]
  },
  {
   "cell_type": "code",
   "execution_count": 19,
   "metadata": {},
   "outputs": [
    {
     "data": {
      "text/plain": [
       "73500.2738028169"
      ]
     },
     "execution_count": 19,
     "metadata": {},
     "output_type": "execute_result"
    }
   ],
   "source": [
    "t.loc[(t['account_type'] == 'bot')]['followers_count'].mean()"
   ]
  },
  {
   "cell_type": "code",
   "execution_count": 20,
   "metadata": {},
   "outputs": [
    {
     "data": {
      "text/plain": [
       "517747.5122536281"
      ]
     },
     "execution_count": 20,
     "metadata": {},
     "output_type": "execute_result"
    }
   ],
   "source": [
    "t.loc[(t['account_type'] == 'human')]['followers_count'].mean()"
   ]
  },
  {
   "cell_type": "markdown",
   "metadata": {},
   "source": [
    "Humans also have more followers count."
   ]
  },
  {
   "cell_type": "code",
   "execution_count": 21,
   "metadata": {},
   "outputs": [
    {
     "data": {
      "text/plain": [
       "4925.660442655935"
      ]
     },
     "execution_count": 21,
     "metadata": {},
     "output_type": "execute_result"
    }
   ],
   "source": [
    "t.loc[(t['account_type'] == 'bot')]['friends_count'].mean()"
   ]
  },
  {
   "cell_type": "code",
   "execution_count": 22,
   "metadata": {},
   "outputs": [
    {
     "data": {
      "text/plain": [
       "4207.620677247831"
      ]
     },
     "execution_count": 22,
     "metadata": {},
     "output_type": "execute_result"
    }
   ],
   "source": [
    "t.loc[(t['account_type'] == 'human')]['friends_count'].mean()"
   ]
  },
  {
   "cell_type": "markdown",
   "metadata": {},
   "source": [
    "Bots have more friends count."
   ]
  },
  {
   "cell_type": "code",
   "execution_count": 24,
   "metadata": {},
   "outputs": [
    {
     "data": {
      "text/html": [
       "<div>\n",
       "<style scoped>\n",
       "    .dataframe tbody tr th:only-of-type {\n",
       "        vertical-align: middle;\n",
       "    }\n",
       "\n",
       "    .dataframe tbody tr th {\n",
       "        vertical-align: top;\n",
       "    }\n",
       "\n",
       "    .dataframe thead th {\n",
       "        text-align: right;\n",
       "    }\n",
       "</style>\n",
       "<table border=\"1\" class=\"dataframe\">\n",
       "  <thead>\n",
       "    <tr style=\"text-align: right;\">\n",
       "      <th></th>\n",
       "      <th>default_profile</th>\n",
       "      <th>default_profile_image</th>\n",
       "      <th>favorites_count</th>\n",
       "      <th>followers_count</th>\n",
       "      <th>friends_count</th>\n",
       "      <th>geo_enabled</th>\n",
       "      <th>id</th>\n",
       "      <th>statuses_count</th>\n",
       "      <th>verified</th>\n",
       "      <th>average_tweets_per_day</th>\n",
       "      <th>account_age_days</th>\n",
       "      <th>account_type</th>\n",
       "    </tr>\n",
       "  </thead>\n",
       "  <tbody>\n",
       "    <tr>\n",
       "      <th>0</th>\n",
       "      <td>False</td>\n",
       "      <td>False</td>\n",
       "      <td>4</td>\n",
       "      <td>1589</td>\n",
       "      <td>4</td>\n",
       "      <td>False</td>\n",
       "      <td>787000000000000000.000</td>\n",
       "      <td>11041</td>\n",
       "      <td>False</td>\n",
       "      <td>7.870</td>\n",
       "      <td>1403</td>\n",
       "      <td>bot</td>\n",
       "    </tr>\n",
       "    <tr>\n",
       "      <th>1</th>\n",
       "      <td>False</td>\n",
       "      <td>False</td>\n",
       "      <td>536</td>\n",
       "      <td>860</td>\n",
       "      <td>880</td>\n",
       "      <td>False</td>\n",
       "      <td>796000000000000000.000</td>\n",
       "      <td>252</td>\n",
       "      <td>False</td>\n",
       "      <td>0.183</td>\n",
       "      <td>1379</td>\n",
       "      <td>human</td>\n",
       "    </tr>\n",
       "    <tr>\n",
       "      <th>2</th>\n",
       "      <td>False</td>\n",
       "      <td>False</td>\n",
       "      <td>3307</td>\n",
       "      <td>172</td>\n",
       "      <td>594</td>\n",
       "      <td>True</td>\n",
       "      <td>876000000000000000.000</td>\n",
       "      <td>1001</td>\n",
       "      <td>False</td>\n",
       "      <td>0.864</td>\n",
       "      <td>1159</td>\n",
       "      <td>human</td>\n",
       "    </tr>\n",
       "    <tr>\n",
       "      <th>3</th>\n",
       "      <td>True</td>\n",
       "      <td>False</td>\n",
       "      <td>8433</td>\n",
       "      <td>517</td>\n",
       "      <td>633</td>\n",
       "      <td>True</td>\n",
       "      <td>756000000000000000.000</td>\n",
       "      <td>1324</td>\n",
       "      <td>False</td>\n",
       "      <td>0.889</td>\n",
       "      <td>1489</td>\n",
       "      <td>human</td>\n",
       "    </tr>\n",
       "    <tr>\n",
       "      <th>4</th>\n",
       "      <td>False</td>\n",
       "      <td>False</td>\n",
       "      <td>88</td>\n",
       "      <td>753678</td>\n",
       "      <td>116</td>\n",
       "      <td>True</td>\n",
       "      <td>464781334.000</td>\n",
       "      <td>4202</td>\n",
       "      <td>True</td>\n",
       "      <td>1.339</td>\n",
       "      <td>3138</td>\n",
       "      <td>human</td>\n",
       "    </tr>\n",
       "  </tbody>\n",
       "</table>\n",
       "</div>"
      ],
      "text/plain": [
       "   default_profile  default_profile_image  favorites_count  followers_count  \\\n",
       "0            False                  False                4             1589   \n",
       "1            False                  False              536              860   \n",
       "2            False                  False             3307              172   \n",
       "3             True                  False             8433              517   \n",
       "4            False                  False               88           753678   \n",
       "\n",
       "   friends_count  geo_enabled                     id  statuses_count  \\\n",
       "0              4        False 787000000000000000.000           11041   \n",
       "1            880        False 796000000000000000.000             252   \n",
       "2            594         True 876000000000000000.000            1001   \n",
       "3            633         True 756000000000000000.000            1324   \n",
       "4            116         True          464781334.000            4202   \n",
       "\n",
       "   verified  average_tweets_per_day  account_age_days account_type  \n",
       "0     False                   7.870              1403          bot  \n",
       "1     False                   0.183              1379        human  \n",
       "2     False                   0.864              1159        human  \n",
       "3     False                   0.889              1489        human  \n",
       "4      True                   1.339              3138        human  "
      ]
     },
     "execution_count": 24,
     "metadata": {},
     "output_type": "execute_result"
    }
   ],
   "source": [
    "t.head()"
   ]
  },
  {
   "cell_type": "code",
   "execution_count": null,
   "metadata": {},
   "outputs": [],
   "source": []
  }
 ],
 "metadata": {
  "kernelspec": {
   "display_name": "Python 3",
   "language": "python",
   "name": "python3"
  },
  "language_info": {
   "codemirror_mode": {
    "name": "ipython",
    "version": 3
   },
   "file_extension": ".py",
   "mimetype": "text/x-python",
   "name": "python",
   "nbconvert_exporter": "python",
   "pygments_lexer": "ipython3",
   "version": "3.8.5"
  }
 },
 "nbformat": 4,
 "nbformat_minor": 4
}
